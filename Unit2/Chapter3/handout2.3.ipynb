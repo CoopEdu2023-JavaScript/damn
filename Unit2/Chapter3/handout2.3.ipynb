{
 "cells": [
  {
   "cell_type": "markdown",
   "metadata": {},
   "source": [
    "# Number"
   ]
  },
  {
   "cell_type": "markdown",
   "metadata": {},
   "source": [
    "1. Define a number with a value of one billion in 3 ways."
   ]
  },
  {
   "cell_type": "code",
   "execution_count": null,
   "metadata": {},
   "outputs": [],
   "source": [
    "let billion = 1000000000\n",
    "let billion = 1_000_000_000\n",
    "let billion = 1e9"
   ]
  },
  {
   "cell_type": "markdown",
   "metadata": {},
   "source": [
    "2. Convert 100(10) to binary number."
   ]
  },
  {
   "cell_type": "code",
   "execution_count": null,
   "metadata": {},
   "outputs": [],
   "source": [
    "let n2 = 100\n",
    "n2 = +n2.toString(2)"
   ]
  },
  {
   "cell_type": "markdown",
   "metadata": {},
   "source": [
    "3. Round up, round down, and round to the nearest whole number for `3.1`."
   ]
  },
  {
   "cell_type": "code",
   "execution_count": null,
   "metadata": {},
   "outputs": [],
   "source": [
    "console.log(Math.floor(3.1))\n",
    "console.log(Math.ceil(3.1))\n",
    "console.log(Math.round(3.1))"
   ]
  },
  {
   "cell_type": "markdown",
   "metadata": {},
   "source": [
    "4. Round `12.34` and `12.35` to 1 decimal place."
   ]
  },
  {
   "cell_type": "code",
   "execution_count": null,
   "metadata": {},
   "outputs": [],
   "source": [
    "let num = 12.35\n",
    "console.log(Math.round(12.35 * 10) / 10)"
   ]
  },
  {
   "cell_type": "markdown",
   "metadata": {},
   "source": [
    "# String"
   ]
  },
  {
   "cell_type": "markdown",
   "metadata": {},
   "source": [
    "5. Print the length of `text5`."
   ]
  },
  {
   "cell_type": "code",
   "execution_count": null,
   "metadata": {},
   "outputs": [],
   "source": [
    "let text5 = `My\\n`\n",
    "console.log(text5.length)\n"
   ]
  },
  {
   "cell_type": "markdown",
   "metadata": {},
   "source": [
    "6. Print the last letter of `text6` in 2 ways."
   ]
  },
  {
   "cell_type": "code",
   "execution_count": null,
   "metadata": {},
   "outputs": [],
   "source": [
    "let text6 = 'Hello'\n",
    "console.log(text6[text6.length - 1])\n",
    "console.log(text6.at(-1))"
   ]
  },
  {
   "cell_type": "markdown",
   "metadata": {},
   "source": [
    "7. Change the first letter to uppercase."
   ]
  },
  {
   "cell_type": "code",
   "execution_count": null,
   "metadata": {},
   "outputs": [],
   "source": [
    "let text7 = 'hi'\n",
    "text7 = text7[0].toUpperCase() + text7.slice(1)\n"
   ]
  },
  {
   "cell_type": "markdown",
   "metadata": {},
   "source": [
    "# Array"
   ]
  },
  {
   "cell_type": "markdown",
   "metadata": {},
   "source": [
    "8. Write the output by comments."
   ]
  },
  {
   "cell_type": "code",
   "execution_count": null,
   "metadata": {},
   "outputs": [],
   "source": [
    "let arr8 = [1, 2, 3]\n",
    "\n",
    "arr8.pop()\n",
    "console.log(arr8) // 1,2\n",
    "\n",
    "arr8.push(4)\n",
    "console.log(arr8) // 1,2,4\n",
    "\n",
    "arr8.shift()\n",
    "console.log(arr8) // 2,4\n",
    "\n",
    "arr8.unshift(5)\n",
    "console.log(arr8) // 5,2,4"
   ]
  },
  {
   "cell_type": "markdown",
   "metadata": {},
   "source": [
    "9. Iterate the array in 2 ways."
   ]
  },
  {
   "cell_type": "code",
   "execution_count": null,
   "metadata": {},
   "outputs": [],
   "source": [
    "let arr9 = [1, 2, 3, 4, 5]\n",
    "for(let i = 0; i < arr9.length; i++){\n",
    "    console.log(arr9[i])\n",
    "}\n",
    "for(let n of arr9){\n",
    "    console.log(n)\n",
    "}"
   ]
  },
  {
   "cell_type": "markdown",
   "metadata": {},
   "source": [
    "10. Replace the first 3 elements with `0` and `1` using `splice`."
   ]
  },
  {
   "cell_type": "code",
   "execution_count": 14,
   "metadata": {},
   "outputs": [
    {
     "name": "stdout",
     "output_type": "stream",
     "text": [
      "[ 0, 1, 4, 5 ]\n"
     ]
    }
   ],
   "source": [
    "let arr10 = [1, 2, 3, 4, 5]\n",
    "arr10.splice(0, 3, 0, 1)\n",
    "console.log(arr10)"
   ]
  },
  {
   "cell_type": "markdown",
   "metadata": {},
   "source": [
    "11. Get a sub array of the first 3 elements in `arr11` using `slice`."
   ]
  },
  {
   "cell_type": "code",
   "execution_count": 15,
   "metadata": {},
   "outputs": [
    {
     "name": "stdout",
     "output_type": "stream",
     "text": [
      "[ 1, 2, 3 ]\n"
     ]
    }
   ],
   "source": [
    "let arr11 = [1, 2, 3, 4, 5]\n",
    "console.log(arr11.slice(0,3))"
   ]
  },
  {
   "cell_type": "markdown",
   "metadata": {},
   "source": [
    "12. Merge `arr12a` and `arr12b` using `concat`."
   ]
  },
  {
   "cell_type": "code",
   "execution_count": 16,
   "metadata": {},
   "outputs": [
    {
     "data": {
      "text/plain": [
       "[\n",
       "  \u001b[33m1\u001b[39m, \u001b[33m2\u001b[39m, \u001b[33m3\u001b[39m, \u001b[33m4\u001b[39m, \u001b[33m5\u001b[39m,\n",
       "  \u001b[33m0\u001b[39m, \u001b[33m1\u001b[39m, \u001b[33m2\u001b[39m, \u001b[33m3\u001b[39m, \u001b[33m4\u001b[39m\n",
       "]"
      ]
     },
     "execution_count": 16,
     "metadata": {},
     "output_type": "execute_result"
    }
   ],
   "source": [
    "let arr12a = [1, 2, 3, 4, 5]\n",
    "let arr12b = [0, 1, 2, 3, 4]\n",
    "arr12a.concat(arr12b)"
   ]
  },
  {
   "cell_type": "markdown",
   "metadata": {},
   "source": [
    "13. Print each element in `arr13` using `forEach`."
   ]
  },
  {
   "cell_type": "code",
   "execution_count": 17,
   "metadata": {},
   "outputs": [
    {
     "name": "stdout",
     "output_type": "stream",
     "text": [
      "1\n",
      "2\n",
      "3\n",
      "4\n",
      "5\n"
     ]
    }
   ],
   "source": [
    "let arr13 = [1, 2, 3, 4, 5]\n",
    "arr13.forEach((a) => {\n",
    "    console.log(a)\n",
    "})"
   ]
  },
  {
   "cell_type": "code",
   "execution_count": null,
   "metadata": {},
   "outputs": [],
   "source": []
  },
  {
   "cell_type": "markdown",
   "metadata": {},
   "source": [
    "14. Double all numbers in `arr14` using `map`."
   ]
  },
  {
   "cell_type": "code",
   "execution_count": 19,
   "metadata": {},
   "outputs": [
    {
     "data": {
      "text/plain": [
       "[ \u001b[33m2\u001b[39m, \u001b[33m4\u001b[39m, \u001b[33m6\u001b[39m, \u001b[33m8\u001b[39m, \u001b[33m10\u001b[39m ]"
      ]
     },
     "execution_count": 19,
     "metadata": {},
     "output_type": "execute_result"
    }
   ],
   "source": [
    "let arr14 = [1, 2, 3, 4, 5]\n",
    "arr14.map(a => a*2)"
   ]
  },
  {
   "cell_type": "markdown",
   "metadata": {},
   "source": [
    "15. Split name in the string and save to an array using `split`."
   ]
  },
  {
   "cell_type": "code",
   "execution_count": 20,
   "metadata": {},
   "outputs": [
    {
     "name": "stdout",
     "output_type": "stream",
     "text": [
      "[ \"Bilbo\", \"Gandalf\", \"Nazgul\" ]\n"
     ]
    }
   ],
   "source": [
    "let names15 = 'Bilbo, Gandalf, Nazgul'\n",
    "console.log(names15.split(\", \"))"
   ]
  },
  {
   "cell_type": "markdown",
   "metadata": {},
   "source": [
    "16. Join the names in `arr16` with `,` using `join`."
   ]
  },
  {
   "cell_type": "code",
   "execution_count": 21,
   "metadata": {},
   "outputs": [
    {
     "name": "stdout",
     "output_type": "stream",
     "text": [
      "Bilbo,Gandalf,Nazgul\n"
     ]
    }
   ],
   "source": [
    "let arr16 = ['Bilbo', 'Gandalf', 'Nazgul']\n",
    "console.log(arr16.join(\",\"))"
   ]
  },
  {
   "cell_type": "markdown",
   "metadata": {},
   "source": [
    "17. How to determine whether a variable is an array?"
   ]
  },
  {
   "cell_type": "code",
   "execution_count": null,
   "metadata": {},
   "outputs": [],
   "source": [
    "alert(Array.isArray({})); // false\n",
    "\n",
    "alert(Array.isArray([])); // true"
   ]
  },
  {
   "cell_type": "markdown",
   "metadata": {},
   "source": [
    "# Object"
   ]
  },
  {
   "cell_type": "markdown",
   "metadata": {},
   "source": [
    "18. Print keys, values and key-value pairs of `obj18`."
   ]
  },
  {
   "cell_type": "code",
   "execution_count": 22,
   "metadata": {},
   "outputs": [
    {
     "name": "stdout",
     "output_type": "stream",
     "text": [
      "[ \"name\", \"age\" ]\n",
      "[ \"John\", 30 ]\n",
      "[ [ \"name\", \"John\" ], [ \"age\", 30 ] ]\n"
     ]
    }
   ],
   "source": [
    "let obj18 = {\n",
    "  name: \"John\",\n",
    "  age: 30\n",
    "}\n",
    "console.log(Object.keys(obj18))\n",
    "console.log(Object.values(obj18))\n",
    "console.log(Object.entries(obj18))"
   ]
  },
  {
   "cell_type": "markdown",
   "metadata": {},
   "source": [
    "# Destructuring Assignment"
   ]
  },
  {
   "cell_type": "markdown",
   "metadata": {},
   "source": [
    "19. Swap 2 numbers by destructuring assignment."
   ]
  },
  {
   "cell_type": "code",
   "execution_count": 23,
   "metadata": {},
   "outputs": [
    {
     "name": "stdout",
     "output_type": "stream",
     "text": [
      "2 1\n"
     ]
    }
   ],
   "source": [
    "let n19a = 1, n19b = 2;\n",
    "[n19a, n19b] = [n19b, n19a]\n",
    "console.log(n19a,n19b)"
   ]
  },
  {
   "cell_type": "markdown",
   "metadata": {},
   "source": [
    "20. Extract properties from an object as separate variables."
   ]
  },
  {
   "cell_type": "code",
   "execution_count": 24,
   "metadata": {},
   "outputs": [
    {
     "name": "stdout",
     "output_type": "stream",
     "text": [
      "Menu 100 200\n"
     ]
    }
   ],
   "source": [
    "let obj20 = {\n",
    "  title: \"Menu\",\n",
    "  width: 100,\n",
    "  height: 200\n",
    "}\n",
    "let {title, width, height} = obj20;\n",
    "console.log(title, width, height)"
   ]
  },
  {
   "cell_type": "markdown",
   "metadata": {},
   "source": [
    "# JSON"
   ]
  },
  {
   "cell_type": "markdown",
   "metadata": {},
   "source": [
    "21. Convert `obj21` into JSON."
   ]
  },
  {
   "cell_type": "code",
   "execution_count": 25,
   "metadata": {},
   "outputs": [
    {
     "data": {
      "text/plain": [
       "\u001b[32m'{\"title\":\"Conference\",\"room\":{\"number\":23,\"participants\":[\"john\",\"ann\"]}}'\u001b[39m"
      ]
     },
     "execution_count": 25,
     "metadata": {},
     "output_type": "execute_result"
    }
   ],
   "source": [
    "let obj21 = {\n",
    "  title: \"Conference\",\n",
    "  room: {\n",
    "    number: 23,\n",
    "    participants: [\"john\", \"ann\"]}\n",
    "}\n",
    "JSON.stringify(obj21)"
   ]
  },
  {
   "cell_type": "markdown",
   "metadata": {},
   "source": [
    "22. Convert `data22` back into an object."
   ]
  },
  {
   "cell_type": "code",
   "execution_count": 26,
   "metadata": {},
   "outputs": [
    {
     "data": {
      "text/plain": [
       "{ name: \u001b[32m\"John\"\u001b[39m, age: \u001b[33m35\u001b[39m, isAdmin: \u001b[33mfalse\u001b[39m, friends: [ \u001b[33m0\u001b[39m, \u001b[33m1\u001b[39m, \u001b[33m2\u001b[39m, \u001b[33m3\u001b[39m ] }"
      ]
     },
     "execution_count": 26,
     "metadata": {},
     "output_type": "execute_result"
    }
   ],
   "source": [
    "let data22 = '{ \"name\": \"John\", \"age\": 35, \"isAdmin\": false, \"friends\": [0,1,2,3] }'\n",
    "JSON.parse(data22)"
   ]
  }
 ],
 "metadata": {
  "kernelspec": {
   "display_name": "Deno",
   "language": "typescript",
   "name": "deno"
  },
  "language_info": {
   "file_extension": ".ts",
   "mimetype": "text/x.typescript",
   "name": "typescript",
   "nb_converter": "script",
   "pygments_lexer": "typescript",
   "version": "5.3.3"
  }
 },
 "nbformat": 4,
 "nbformat_minor": 2
}
